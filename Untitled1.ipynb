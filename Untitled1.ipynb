{
 "cells": [
  {
   "cell_type": "code",
   "execution_count": 1,
   "metadata": {},
   "outputs": [],
   "source": [
    "import json\n",
    "from ibm_watson import TextToSpeechV1\n",
    "from ibm_cloud_sdk_core.authenticators import IAMAuthenticator"
   ]
  },
  {
   "cell_type": "code",
   "execution_count": 2,
   "metadata": {},
   "outputs": [],
   "source": [
    "authenticator = IAMAuthenticator('nCHtrUHEZ7x7Jt2IdEBFWo2NFFR4wUG48z2voRo3RW98')\n",
    "text_to_speech = TextToSpeechV1(\n",
    "    authenticator=authenticator\n",
    ")\n",
    "text_to_speech.set_service_url('https://stream.watsonplatform.net/text-to-speech/api')"
   ]
  },
  {
   "cell_type": "code",
   "execution_count": 4,
   "metadata": {},
   "outputs": [],
   "source": [
    "yy = \"/tmp/\"\n",
    "read_text = \"what's up dog I've been missing you!\"\n",
    "title = \"yoo_sup_dog\"\n",
    "\n",
    "src = title+\".mp3\"\n",
    "src_x = title+\"[1.3x].mp3\"\n",
    "voice_list = ['en-US_MichaelV3Voice','en-US_AllisonV3Voice']\n",
    "div_num = 4900\n",
    "num = int(len(read_text)/div_num)\n",
    "base = []\n",
    "\n",
    "\n",
    "for i in range(num+1):\n",
    "    with open(yy+'{}.mp3'.format(title+str(i)), 'wb') as audio_file:\n",
    "        audio_file.write(\n",
    "            text_to_speech.synthesize(\n",
    "                read_text[i*div_num:(i+1)*div_num],\n",
    "                voice=voice_list[0],\n",
    "                accept='audio/mp3'        \n",
    "            ).get_result().content)"
   ]
  },
  {
   "cell_type": "code",
   "execution_count": null,
   "metadata": {},
   "outputs": [],
   "source": []
  }
 ],
 "metadata": {
  "kernelspec": {
   "display_name": "Python 3",
   "language": "python",
   "name": "python3"
  },
  "language_info": {
   "codemirror_mode": {
    "name": "ipython",
    "version": 3
   },
   "file_extension": ".py",
   "mimetype": "text/x-python",
   "name": "python",
   "nbconvert_exporter": "python",
   "pygments_lexer": "ipython3",
   "version": "3.7.3"
  }
 },
 "nbformat": 4,
 "nbformat_minor": 2
}
